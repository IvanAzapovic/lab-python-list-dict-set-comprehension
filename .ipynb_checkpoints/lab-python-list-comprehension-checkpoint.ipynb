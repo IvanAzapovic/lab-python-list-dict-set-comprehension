{
 "cells": [
  {
   "cell_type": "markdown",
   "id": "25d7736c-ba17-4aff-b6bb-66eba20fbf4e",
   "metadata": {},
   "source": [
    "# Lab | List, Dict and Set Comprehension"
   ]
  },
  {
   "cell_type": "markdown",
   "id": "7dd3cbde-675a-4b81-92c3-f728846dbe06",
   "metadata": {},
   "source": [
    "## Exercise: Managing Customer Orders Optimized with Comprehension"
   ]
  },
  {
   "cell_type": "markdown",
   "id": "5d500160-2fb7-4777-b5e4-09d45ebaf328",
   "metadata": {},
   "source": [
    "In the previous exercise, you developed a program to manage customer orders and inventory. Now, let's take it a step further and incorporate comprehension into your code.\n",
    "\n",
    "Follow the steps below to complete the exercise:\n",
    "\n",
    "1. Review your code from the previous exercise and identify areas where you can apply comprehension to simplify and streamline your code. \n",
    "\n",
    "    - *Hint: Apply it to initialize inventory, updating the inventory and printing the updated inventory.*\n",
    "    \n",
    "    - For example, in initializing the inventory, we could have:\n",
    "    \n",
    "        ```python\n",
    "        def initialize_inventory(products):\n",
    "            inventory = {product: int(input(f\"Enter the quantity of {product}s available: \")) for product in products}\n",
    "            return inventory\n",
    "\n",
    "        ```\n",
    "<br>\n",
    "    \n",
    "    \n",
    "2. Modify the function get_customer_orders so it prompts the user to enter the number of customer orders and gathers the product names using a loop and user input. Use comprehension.\n",
    "\n",
    "3. Add a new function to calculate the total price of the customer order. For each product in customer_orders, prompt the user to enter the price of that product. Use comprehension to calculate the total price. Note: assume that the user can only have 1 unit of each product.\n",
    "\n",
    "4. Modify the update_inventory function to remove the product from the inventory if its quantity becomes zero after fulfilling the customer orders. Use comprehension to filter out the products with a quantity of zero from the inventory.\n",
    "\n",
    "5. Print the total price of the customer order.\n",
    "\n",
    "Your code should produce output similar to the following:\n",
    "\n",
    "```python\n",
    "Enter the quantity of t-shirts available:  5\n",
    "Enter the quantity of mugs available:  4\n",
    "Enter the quantity of hats available:  3\n",
    "Enter the quantity of books available:  2\n",
    "Enter the quantity of keychains available:  1\n",
    "Enter the number of customer orders:  2\n",
    "Enter the name of a product that a customer wants to order:  hat\n",
    "Enter the name of a product that a customer wants to order:  keychain\n",
    "\n",
    "Order Statistics:\n",
    "Total Products Ordered: 2\n",
    "Percentage of Unique Products Ordered: 40.0\n",
    "\n",
    "Updated Inventory:\n",
    "t-shirt: 5\n",
    "mug: 4\n",
    "hat: 2\n",
    "book: 2\n",
    "Enter the price of keychain:  5\n",
    "Enter the price of hat:  10\n",
    "Total Price: 15.0\n",
    "\n",
    "```\n"
   ]
  },
  {
   "cell_type": "code",
   "execution_count": 13,
   "id": "e5fbe963-619a-4844-8e79-a05adcda10ea",
   "metadata": {},
   "outputs": [
    {
     "name": "stdin",
     "output_type": "stream",
     "text": [
      "Please enter the quantity of the t-shirt: 45\n",
      "Please enter the quantity of the mug: 7\n",
      "Please enter the quantity of the hat: 1\n",
      "Please enter the quantity of the book: 2\n",
      "Please enter the quantity of the keychain: 27\n",
      "Please enter the number of orders you want to exacute 3\n",
      "Enter the product name: mug\n",
      "Enter the product name: hat\n",
      "Enter the product name: keychain\n"
     ]
    },
    {
     "name": "stdout",
     "output_type": "stream",
     "text": [
      "{'hat', 'keychain', 'mug'}\n",
      "Order Statistics:\n",
      "Total Products Ordered: 3\n",
      "Percentage of Products Ordered:3.6585365853658534%\n",
      "{'t-shirt': 45, 'mug': 6, 'book': 2, 'keychain': 26}\n"
     ]
    },
    {
     "name": "stdin",
     "output_type": "stream",
     "text": [
      "Please enter the price of the hat: 25.7\n",
      "Please enter the price of the keychain: 7.99\n",
      "Please enter the price of the mug: 4.99\n"
     ]
    },
    {
     "name": "stdout",
     "output_type": "stream",
     "text": [
      "total price of ordered products is: 38.68\n"
     ]
    }
   ],
   "source": [
    "##### 1. Review your code from the previous exercise and identify areas where you can apply comprehension\n",
    "#    to simplify and streamline your code. \n",
    "\n",
    "products = [\"t-shirt\", \"mug\", \"hat\", \"book\", \"keychain\"]\n",
    "\n",
    "def initialize_inventory(products):\n",
    "    inventory={product: int(input(f\"Please enter the quantity of the {product}:\")) for product in products}\n",
    "    return inventory\n",
    "\n",
    "# 2. Modify the function get_customer_orders so it prompts the user to enter the number of customer orders \n",
    "#    and gathers the product names using a loop and user input. Use comprehension.\n",
    "\n",
    "def get_customer_orders():\n",
    "    num_of_orders=int(input(\"Please enter the number of orders you want to exacute\"))\n",
    "    return {input(\"Enter the product name:\").lower().strip() for order in range(num_of_orders)}\n",
    "        \n",
    "# 3. Add a new function to calculate the total price of the customer order. \n",
    "#    For each product in customer_orders, prompt the user to enter the price of that product. \n",
    "#    Use comprehension to calculate the total price. \n",
    "#    Note: assume that the user can only have 1 unit of each product.\n",
    "\n",
    "def calculate_total_price(customer_orders):\n",
    "    product_price=[float(input(f\"Please enter the price of the {product}:\")) for product in customer_orders]\n",
    "    total_price=sum(product_price)\n",
    "    return total_price\n",
    "\n",
    "\n",
    "def calculate_order_statistics(customer_orders, products):\n",
    "    total_products_ordered=len(customer_orders)\n",
    "    percentage_of_products_ordered=(len(customer_orders)/sum(inventory.values())*100)\n",
    "    return total_products_ordered, percentage_of_products_ordered\n",
    "\n",
    "\n",
    "def print_order_statistics(order_statistics):\n",
    "        total_products_ordered, percentage_of_products_ordered = order_statistics\n",
    "        print(\"Order Statistics:\")\n",
    "        print(f\"Total Products Ordered: {total_products_ordered}\")\n",
    "        print(f\"Percentage of Products Ordered:{percentage_of_products_ordered}%\")\n",
    "\n",
    "\n",
    "# 4. Modify the update_inventory function to remove the product from the inventory \n",
    "#    if its quantity becomes zero after fulfilling the customer orders. \n",
    "#    Use comprehension to filter out the products with a quantity of zero from the inventory.\n",
    "\n",
    "def update_inventory(customer_orders, inventory):\n",
    "    inventory = {product: quantity for product, quantity in inventory.items() if quantity > 0}\n",
    "    inventory = {product: inventory[product]-1 if product in customer_orders else inventory[product] for product in inventory}\n",
    "    inventory = {product: quantity for product, quantity in inventory.items() if quantity > 0}\n",
    "    return inventory\n",
    "\n",
    "    \n",
    "inventory=initialize_inventory(products)\n",
    "customer_orders=get_customer_orders()\n",
    "print(customer_orders)\n",
    "order_statistics = calculate_order_statistics(customer_orders, products)\n",
    "print_order_statistics(order_statistics)\n",
    "my_inventory=update_inventory(customer_orders,inventory)\n",
    "print(my_inventory)\n",
    "total_price=calculate_total_price(customer_orders)\n",
    "print(f\"total price of ordered products is: {total_price}\")\n",
    "\n",
    "\n",
    "\n",
    "\n"
   ]
  },
  {
   "cell_type": "code",
   "execution_count": null,
   "id": "6f024f37-532c-4add-8260-300fbc8ac29e",
   "metadata": {},
   "outputs": [],
   "source": []
  }
 ],
 "metadata": {
  "kernelspec": {
   "display_name": "Python 3 (ipykernel)",
   "language": "python",
   "name": "python3"
  },
  "language_info": {
   "codemirror_mode": {
    "name": "ipython",
    "version": 3
   },
   "file_extension": ".py",
   "mimetype": "text/x-python",
   "name": "python",
   "nbconvert_exporter": "python",
   "pygments_lexer": "ipython3",
   "version": "3.12.7"
  }
 },
 "nbformat": 4,
 "nbformat_minor": 5
}
